{
 "cells": [
  {
   "cell_type": "code",
   "execution_count": null,
   "metadata": {},
   "outputs": [
    {
     "ename": "",
     "evalue": "",
     "output_type": "error",
     "traceback": [
      "\u001b[1;31mThe kernel failed to start due to the missing module 'prompt_toolkit.formatted_text'. Consider installing this module.\n",
      "Click <a href='https://aka.ms/kernelFailuresMissingModule'>here</a> for more info."
     ]
    }
   ],
   "source": [
    "import numpy as np\n",
    "# import pandas as pd\n",
    "# import nltk\n",
    "# from nltk.tokenize import word_tokenize\n",
    "# from nltk.corpus import stopwords\n",
    "# from nltk.stem.porter import PorterStemmer\n",
    "# ps = PorterStemmer()"
   ]
  },
  {
   "cell_type": "code",
   "execution_count": null,
   "metadata": {},
   "outputs": [],
   "source": [
    "def get_length_feature(question1, question2, vector):\n",
    "    if (type(question1) is not float):\n",
    "        l1 = len(question1.split())\n",
    "    else:\n",
    "        l1 = 1\n",
    "    if(type(question2) is not float):\n",
    "        l2 = len(question2.split())\n",
    "    else:\n",
    "        l2 = 1\n",
    "    vector.append(l1)\n",
    "    vector.append(l2)\n",
    "    vector.append(l1-l2)\n",
    "    vector.append(l1/l2)\n",
    "\n",
    "    return vector\n"
   ]
  },
  {
   "cell_type": "code",
   "execution_count": null,
   "metadata": {},
   "outputs": [],
   "source": [
    "def get_count_lowercased(question1, question2, vector):\n",
    "\n",
    "    q1 = []\n",
    "    q2 = []\n",
    "\n",
    "    for word in word_tokenize(question1):\n",
    "        if word.islower():\n",
    "            q1.append(word)\n",
    "    \n",
    "    for word in word_tokenize(question2):\n",
    "        if word.islower():\n",
    "            q2.append(word)\n",
    "  \n",
    "\n",
    "    count = len(set(q1) & set(q2))\n",
    "\n",
    "    vector.append(count)\n",
    "    vector.append(count/237)\n",
    "\n",
    "    return vector\n"
   ]
  },
  {
   "cell_type": "code",
   "execution_count": null,
   "metadata": {},
   "outputs": [],
   "source": [
    "def get_count_lowercased_without_stopwords(question1, question2, vector):\n",
    "    q1 = []\n",
    "    q2 = []\n",
    "\n",
    "    for word in word_tokenize(question1):\n",
    "        if word.islower() and word not in stopwords:\n",
    "            q1.append(word)\n",
    "    \n",
    "    for word in word_tokenize(question2):\n",
    "        if word.islower() and word not in stopwords:\n",
    "            q2.append(word)\n",
    "\n",
    "\n",
    "    count = len(set(q1) & set(q2))\n",
    "\n",
    "    vector.append(count)\n",
    "    vector.append(count/237)\n",
    "\n",
    "    return vector\n"
   ]
  },
  {
   "cell_type": "code",
   "execution_count": null,
   "metadata": {},
   "outputs": [],
   "source": [
    "def same_last_words(question1, question2, vector):\n",
    "    q1 = []\n",
    "    q2 = []\n",
    "\n",
    "    for word in word_tokenize(question1):\n",
    "        q1.append(word)\n",
    "    \n",
    "    for word in word_tokenize(question2):\n",
    "        q2.append(word)\n",
    "    \n",
    "\n",
    "    vector.append(q1[-1] == q2[-1])\n",
    "\n",
    "    return vector\n"
   ]
  },
  {
   "cell_type": "code",
   "execution_count": null,
   "metadata": {},
   "outputs": [],
   "source": [
    "def get_count_uppercased(question1, question2, vector):\n",
    "    \n",
    "    q1 = []\n",
    "    q2 = []\n",
    "\n",
    "    for word in word_tokenize(question1):\n",
    "        if word.isupper():\n",
    "            q1.append(word)\n",
    "    \n",
    "    for word in word_tokenize(question2):\n",
    "        if word.isupper():\n",
    "            q2.append(word)\n",
    "\n",
    "\n",
    "    count = len(set(q1) & set(q2))\n",
    "\n",
    "    vector.append(count)\n",
    "    vector.append(count/237)\n",
    "\n",
    "    return vector\n"
   ]
  },
  {
   "cell_type": "code",
   "execution_count": null,
   "metadata": {},
   "outputs": [],
   "source": [
    "def same_prefix(self, question1, question2, vector):\n",
    "    q1 = []\n",
    "    q2 = []\n",
    "    \n",
    "    for word in word_tokenize(question1):\n",
    "        q1.append(word)\n",
    "    \n",
    "    for word in word_tokenize(question2):\n",
    "        q2.append(word)\n",
    "    \n",
    "    for i in range(3):\n",
    "        vector.append(sum(q1[:i] == q2[:i]))\n",
    "    for i in range(3):\n",
    "        vector.append(sum(q1[:i] == q2[:i])/237)\n",
    "    for i in range(4):\n",
    "        vector.append(sum(q1[:i] == q2[:i]))\n",
    "    for i in range(4):\n",
    "        vector.append(sum(q1[:i] == q2[:i])/237)\n",
    "    for i in range(5):\n",
    "        vector.append(sum(q1[:i] == q2[:i]))\n",
    "    for i in range(5):\n",
    "        vector.append(sum(q1[:i] == q2[:i])/237)\n",
    "    for i in range(6):\n",
    "        vector.append(sum(q1[:i] == q2[:i]))\n",
    "    for i in range(6):\n",
    "        vector.append(sum(q1[:i] == q2[:i])/237)\n",
    "   \n",
    "\n",
    "    return vector\n"
   ]
  },
  {
   "cell_type": "code",
   "execution_count": null,
   "metadata": {},
   "outputs": [
    {
     "ename": "",
     "evalue": "",
     "output_type": "error",
     "traceback": [
      "\u001b[1;31mThe kernel failed to start due to the missing module 'prompt_toolkit.formatted_text'. Consider installing this module.\n",
      "Click <a href='https://aka.ms/kernelFailuresMissingModule'>here</a> for more info."
     ]
    }
   ],
   "source": [
    "def misc_features(self, question1, question2, vector):\n",
    "    q1 = []\n",
    "    q2 = []\n",
    "\n",
    "    for word in word_tokenize(question1):\n",
    "        q1.append(word)\n",
    "    \n",
    "    for word in word_tokenize(question2):\n",
    "        q2.append(word)\n",
    "    \n",
    "    vector.append('not' in q1)\n",
    "    vector.append('not' in q2)\n",
    "    vector.append('not' in q1 and 'not' in q2)\n",
    "\n",
    "    q11 = []\n",
    "    q21 = []\n",
    "\n",
    "    for word in q1:\n",
    "        if word.isdigit():\n",
    "            q11.append(word)\n",
    "    \n",
    "    for word in q2:\n",
    "        if word.isdigit():\n",
    "            q21.append(word)\n",
    "   \n",
    "    vector.append(len(set(q11) and set(q21)))\n",
    "\n",
    "    q12 = []\n",
    "    q22 = []\n",
    "\n",
    "    for word in q1:\n",
    "        q12.append(ps.stem(word))\n",
    "    \n",
    "    for word in q2:\n",
    "        q22.append(ps.stem(word))\n",
    "\n",
    "    vector.append(len(set(q12) & set(q22)))\n",
    "    vector.append(len(set(q12) & set(q22))/237)\n",
    "\n",
    "    return vector\n"
   ]
  },
  {
   "cell_type": "code",
   "execution_count": null,
   "metadata": {},
   "outputs": [],
   "source": [
    "def create_feature_vector(question1, question2):\n",
    "    vector = []\n",
    "    vector = get_length_feature(question1, question2, vector)\n",
    "    vector = get_count_lowercased(question1, question2, vector)\n",
    "    vector = get_count_lowercased_without_stopwords(\n",
    "        question1, question2, vector)\n",
    "    vector = same_last_words(question1, question2, vector)\n",
    "    vector = get_count_uppercased(question1, question2, vector)\n",
    "    vector = same_prefix(question1, question2, vector)\n",
    "    vector = misc_features(question1, question2, vector)\n"
   ]
  },
  {
   "cell_type": "markdown",
   "metadata": {},
   "source": []
  }
 ],
 "metadata": {
  "kernelspec": {
   "display_name": "Python 3.10.5 64-bit",
   "language": "python",
   "name": "python3"
  },
  "language_info": {
   "name": "python",
   "version": "3.10.5"
  },
  "orig_nbformat": 4,
  "vscode": {
   "interpreter": {
    "hash": "e7370f93d1d0cde622a1f8e1c04877d8463912d04d973331ad4851f04de6915a"
   }
  }
 },
 "nbformat": 4,
 "nbformat_minor": 2
}
